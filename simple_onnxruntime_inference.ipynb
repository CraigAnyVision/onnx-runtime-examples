{
 "cells": [
  {
   "cell_type": "markdown",
   "metadata": {},
   "source": [
    "Inference for a simple model with ONNX Runtime\n",
    "========================================\n",
    "\n",
    "This example demonstrates how to load a model and compute\n",
    "the output for an input vector. It also shows how to\n",
    "retrieve the definition of its inputs and outputs.\n",
    "\n"
   ]
  },
  {
   "cell_type": "code",
   "execution_count": 1,
   "metadata": {},
   "outputs": [],
   "source": [
    "import onnxruntime\n",
    "import numpy as np\n",
    "from onnxruntime.datasets import get_example"
   ]
  },
  {
   "cell_type": "markdown",
   "metadata": {},
   "source": [
    "Let's load a very simple ONNX model.\n",
    "The model is available on as a [test case for the sigmoid operator on Github](https://github.com/onnx/onnx/tree/master/onnx/backend/test/data/node/test_sigmoid).\n"
   ]
  },
  {
   "cell_type": "code",
   "execution_count": 2,
   "metadata": {},
   "outputs": [],
   "source": [
    "example_model = get_example(\"sigmoid.onnx\")\n",
    "sess = onnxruntime.InferenceSession(example_model)"
   ]
  },
  {
   "cell_type": "markdown",
   "metadata": {},
   "source": [
    "Let's identify our input name and shape."
   ]
  },
  {
   "cell_type": "code",
   "execution_count": 3,
   "metadata": {},
   "outputs": [
    {
     "name": "stdout",
     "output_type": "stream",
     "text": [
      "Input name  : x\n",
      "Input shape : [3, 4, 5]\n",
      "Input type  : tensor(float)\n"
     ]
    }
   ],
   "source": [
    "input_name = sess.get_inputs()[0].name\n",
    "print(\"Input name  :\", input_name)\n",
    "input_shape = sess.get_inputs()[0].shape\n",
    "print(\"Input shape :\", input_shape)\n",
    "input_type = sess.get_inputs()[0].type\n",
    "print(\"Input type  :\", input_type)"
   ]
  },
  {
   "cell_type": "markdown",
   "metadata": {},
   "source": [
    "Let's identify our output name and shape."
   ]
  },
  {
   "cell_type": "code",
   "execution_count": 4,
   "metadata": {},
   "outputs": [
    {
     "name": "stdout",
     "output_type": "stream",
     "text": [
      "Output name  : y\n",
      "Output shape : [3, 4, 5]\n",
      "Output type  : tensor(float)\n"
     ]
    }
   ],
   "source": [
    "output_name = sess.get_outputs()[0].name\n",
    "print(\"Output name  :\", output_name)  \n",
    "output_shape = sess.get_outputs()[0].shape\n",
    "print(\"Output shape :\", output_shape)\n",
    "output_type = sess.get_outputs()[0].type\n",
    "print(\"Output type  :\", output_type)"
   ]
  },
  {
   "cell_type": "markdown",
   "metadata": {},
   "source": [
    "### Model prediction using ONNX Runtime\n",
    "\n",
    "Now that we've loaded our model, let's pass in some input and compute our predictions."
   ]
  },
  {
   "cell_type": "code",
   "execution_count": 5,
   "metadata": {},
   "outputs": [],
   "source": [
    "x = np.random.random(input_shape)\n",
    "x = x.astype(np.float32)"
   ]
  },
  {
   "cell_type": "code",
   "execution_count": 6,
   "metadata": {},
   "outputs": [
    {
     "name": "stdout",
     "output_type": "stream",
     "text": [
      "CPU times: user 195 µs, sys: 81 µs, total: 276 µs\n",
      "Wall time: 177 µs\n"
     ]
    }
   ],
   "source": [
    "%%time\n",
    "result = sess.run([output_name], {input_name: x})"
   ]
  },
  {
   "cell_type": "code",
   "execution_count": 7,
   "metadata": {},
   "outputs": [
    {
     "data": {
      "text/plain": [
       "[array([[[0.5302464 , 0.7205317 , 0.5688369 , 0.57755095, 0.5173358 ],\n",
       "         [0.67074275, 0.7176502 , 0.6342342 , 0.6152005 , 0.7044769 ],\n",
       "         [0.71917343, 0.515919  , 0.70059013, 0.54814076, 0.69582176],\n",
       "         [0.5117026 , 0.6114282 , 0.6736135 , 0.6726488 , 0.58395857]],\n",
       " \n",
       "        [[0.71284986, 0.56563544, 0.56840974, 0.6850192 , 0.6746618 ],\n",
       "         [0.65415007, 0.5850753 , 0.6961829 , 0.69981873, 0.61664546],\n",
       "         [0.6873221 , 0.67549205, 0.56661916, 0.66143954, 0.6885812 ],\n",
       "         [0.5209962 , 0.55117154, 0.52984923, 0.6552729 , 0.71129864]],\n",
       " \n",
       "        [[0.54815507, 0.6455079 , 0.53113854, 0.57351834, 0.5525806 ],\n",
       "         [0.65460736, 0.7279345 , 0.71481216, 0.6386366 , 0.6519542 ],\n",
       "         [0.53137755, 0.7063425 , 0.50382435, 0.54538625, 0.5146589 ],\n",
       "         [0.5201847 , 0.7213042 , 0.53039086, 0.63279253, 0.63440883]]],\n",
       "       dtype=float32)]"
      ]
     },
     "execution_count": 7,
     "metadata": {},
     "output_type": "execute_result"
    }
   ],
   "source": [
    "result"
   ]
  },
  {
   "cell_type": "code",
   "execution_count": null,
   "metadata": {},
   "outputs": [],
   "source": []
  }
 ],
 "metadata": {
  "kernelspec": {
   "display_name": "Python 3",
   "language": "python",
   "name": "python3"
  },
  "language_info": {
   "codemirror_mode": {
    "name": "ipython",
    "version": 3
   },
   "file_extension": ".py",
   "mimetype": "text/x-python",
   "name": "python",
   "nbconvert_exporter": "python",
   "pygments_lexer": "ipython3",
   "version": "3.6.8"
  }
 },
 "nbformat": 4,
 "nbformat_minor": 1
}
